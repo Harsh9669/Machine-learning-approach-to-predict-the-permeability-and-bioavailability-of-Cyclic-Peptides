{
 "cells": [
  {
   "cell_type": "code",
   "execution_count": 1,
   "id": "7fb2ca0d-d9ce-4874-9f94-b4f3f1fc5baf",
   "metadata": {},
   "outputs": [],
   "source": [
    "import pandas as pd\n",
    "import numpy as np\n",
    "import matplotlib.pyplot as plt\n",
    "import seaborn as sns\n",
    "from sklearn.model_selection import train_test_split\n",
    "from sklearn.preprocessing import StandardScaler\n",
    "from sklearn.metrics import classification_report, accuracy_score, f1_score"
   ]
  },
  {
   "cell_type": "code",
   "execution_count": 2,
   "id": "3af78235-e6fc-4b3c-b3ed-527408b2e97f",
   "metadata": {},
   "outputs": [],
   "source": [
    "df = pd.read_csv(\"CycPeptMPDB_Peptide_Assay_PAMPA.csv\", low_memory=False)"
   ]
  },
  {
   "cell_type": "code",
   "execution_count": 3,
   "id": "37c4f254-327e-4d3b-8450-7d23d1dfd09c",
   "metadata": {},
   "outputs": [],
   "source": [
    "smiles_df = df[['SMILES']]"
   ]
  },
  {
   "cell_type": "code",
   "execution_count": 4,
   "id": "86f649ed-314a-4e82-b1f5-ab148b01e397",
   "metadata": {},
   "outputs": [
    {
     "data": {
      "text/html": [
       "<div>\n",
       "<style scoped>\n",
       "    .dataframe tbody tr th:only-of-type {\n",
       "        vertical-align: middle;\n",
       "    }\n",
       "\n",
       "    .dataframe tbody tr th {\n",
       "        vertical-align: top;\n",
       "    }\n",
       "\n",
       "    .dataframe thead th {\n",
       "        text-align: right;\n",
       "    }\n",
       "</style>\n",
       "<table border=\"1\" class=\"dataframe\">\n",
       "  <thead>\n",
       "    <tr style=\"text-align: right;\">\n",
       "      <th></th>\n",
       "      <th>SMILES</th>\n",
       "    </tr>\n",
       "  </thead>\n",
       "  <tbody>\n",
       "    <tr>\n",
       "      <th>0</th>\n",
       "      <td>C/C=C/C[C@@H](C)[C@@H](O)[C@H]1C(=O)N[C@@H](CC...</td>\n",
       "    </tr>\n",
       "    <tr>\n",
       "      <th>1</th>\n",
       "      <td>CC(C)C[C@@H]1NC(=O)[C@@H](CC(C)C)NC(=O)[C@@H](...</td>\n",
       "    </tr>\n",
       "    <tr>\n",
       "      <th>2</th>\n",
       "      <td>CC(C)C[C@H]1NC(=O)[C@H](Cc2ccc(O)cc2)NC(=O)[C@...</td>\n",
       "    </tr>\n",
       "    <tr>\n",
       "      <th>3</th>\n",
       "      <td>CC(C)C[C@@H]1NC(=O)[C@H](CC(C)C)NC(=O)[C@H](Cc...</td>\n",
       "    </tr>\n",
       "    <tr>\n",
       "      <th>4</th>\n",
       "      <td>CC(C)C[C@@H]1NC(=O)[C@H](Cc2ccc(O)cc2)NC(=O)[C...</td>\n",
       "    </tr>\n",
       "    <tr>\n",
       "      <th>...</th>\n",
       "      <td>...</td>\n",
       "    </tr>\n",
       "    <tr>\n",
       "      <th>6936</th>\n",
       "      <td>N=C(N)NCCC[C@@H]1NC(=O)[C@H](Cc2c[nH]c3ccccc23...</td>\n",
       "    </tr>\n",
       "    <tr>\n",
       "      <th>6937</th>\n",
       "      <td>C[C@@H]1NC(=O)CSC[C@@H](C(N)=O)NC(=O)[C@H](CCC...</td>\n",
       "    </tr>\n",
       "    <tr>\n",
       "      <th>6938</th>\n",
       "      <td>N=C(N)NCCC[C@@H]1NC(=O)[C@H](Cc2c[nH]c3ccccc23...</td>\n",
       "    </tr>\n",
       "    <tr>\n",
       "      <th>6939</th>\n",
       "      <td>N=C(N)NCCC[C@@H]1NC(=O)[C@H](Cc2c[nH]c3ccccc23...</td>\n",
       "    </tr>\n",
       "    <tr>\n",
       "      <th>6940</th>\n",
       "      <td>NCCCC[C@@H]1NC(=O)[C@H](Cc2c[nH]c3ccccc23)NC(=...</td>\n",
       "    </tr>\n",
       "  </tbody>\n",
       "</table>\n",
       "<p>6941 rows × 1 columns</p>\n",
       "</div>"
      ],
      "text/plain": [
       "                                                 SMILES\n",
       "0     C/C=C/C[C@@H](C)[C@@H](O)[C@H]1C(=O)N[C@@H](CC...\n",
       "1     CC(C)C[C@@H]1NC(=O)[C@@H](CC(C)C)NC(=O)[C@@H](...\n",
       "2     CC(C)C[C@H]1NC(=O)[C@H](Cc2ccc(O)cc2)NC(=O)[C@...\n",
       "3     CC(C)C[C@@H]1NC(=O)[C@H](CC(C)C)NC(=O)[C@H](Cc...\n",
       "4     CC(C)C[C@@H]1NC(=O)[C@H](Cc2ccc(O)cc2)NC(=O)[C...\n",
       "...                                                 ...\n",
       "6936  N=C(N)NCCC[C@@H]1NC(=O)[C@H](Cc2c[nH]c3ccccc23...\n",
       "6937  C[C@@H]1NC(=O)CSC[C@@H](C(N)=O)NC(=O)[C@H](CCC...\n",
       "6938  N=C(N)NCCC[C@@H]1NC(=O)[C@H](Cc2c[nH]c3ccccc23...\n",
       "6939  N=C(N)NCCC[C@@H]1NC(=O)[C@H](Cc2c[nH]c3ccccc23...\n",
       "6940  NCCCC[C@@H]1NC(=O)[C@H](Cc2c[nH]c3ccccc23)NC(=...\n",
       "\n",
       "[6941 rows x 1 columns]"
      ]
     },
     "execution_count": 4,
     "metadata": {},
     "output_type": "execute_result"
    }
   ],
   "source": [
    "smiles_df"
   ]
  },
  {
   "cell_type": "code",
   "execution_count": 5,
   "id": "bb63238d-f325-403a-b525-3692696e74b4",
   "metadata": {},
   "outputs": [
    {
     "name": "stderr",
     "output_type": "stream",
     "text": [
      "D:\\Python\\Lib\\site-packages\\numpy\\core\\fromnumeric.py:59: FutureWarning: 'DataFrame.swapaxes' is deprecated and will be removed in a future version. Please use 'DataFrame.transpose' instead.\n",
      "  return bound(*args, **kwds)\n"
     ]
    }
   ],
   "source": [
    "dfs = np.array_split(smiles_df, 5)"
   ]
  },
  {
   "cell_type": "code",
   "execution_count": 7,
   "id": "2588f11e-3276-4796-a965-511c024126ac",
   "metadata": {},
   "outputs": [
    {
     "name": "stderr",
     "output_type": "stream",
     "text": [
      "D:\\Python\\Lib\\site-packages\\numpy\\core\\fromnumeric.py:59: FutureWarning: 'DataFrame.swapaxes' is deprecated and will be removed in a future version. Please use 'DataFrame.transpose' instead.\n",
      "  return bound(*args, **kwds)\n"
     ]
    }
   ],
   "source": [
    "import pandas as pd\n",
    "import numpy as np\n",
    "from rdkit import Chem\n",
    "from rdkit.Chem import AddHs\n",
    "from mordred import Calculator, descriptors\n",
    "\n",
    "# Step 1: Create a new DataFrame with only the SMILES column\n",
    "smiles_df = df[['SMILES']]\n",
    "\n",
    "# Step 2: Split the DataFrame into 5 equal parts\n",
    "dfs = np.array_split(smiles_df, 5)\n",
    "\n",
    "# Initialize Mordred descriptor calculator\n",
    "calc = Calculator(descriptors, ignore_3D=False)\n",
    "\n",
    "# Step 3: Function to convert SMILES to RDKit molecule and add hydrogens\n",
    "def smiles_to_mol_with_hs(smiles):\n",
    "    mol = Chem.MolFromSmiles(smiles)\n",
    "    if mol is not None:\n",
    "        mol = AddHs(mol)\n",
    "    return mol"
   ]
  },
  {
   "cell_type": "code",
   "execution_count": 8,
   "id": "69e17ff3-764f-49e0-a683-7a011295ab8d",
   "metadata": {},
   "outputs": [
    {
     "name": "stderr",
     "output_type": "stream",
     "text": [
      "  1%|▋                                                                                                                 | 9/1389 [00:02<04:08,  5.55it/s]"
     ]
    },
    {
     "name": "stdout",
     "output_type": "stream",
     "text": [
      "D:\\Python\\Lib\\site-packages\\numpy\\core\\fromnumeric.py:88: RuntimeWarning: overflow encountered in reduce\n",
      "  return ufunc.reduce(obj, axis, dtype, out, **passkwargs)\n"
     ]
    },
    {
     "name": "stderr",
     "output_type": "stream",
     "text": [
      "  2%|█▊                                                                                                               | 22/1389 [00:03<02:49,  8.07it/s]"
     ]
    },
    {
     "name": "stdout",
     "output_type": "stream",
     "text": [
      "D:\\Python\\Lib\\site-packages\\numpy\\core\\fromnumeric.py:88: RuntimeWarning: overflow encountered in reduce\n",
      "  return ufunc.reduce(obj, axis, dtype, out, **passkwargs)\n",
      "D:\\Python\\Lib\\site-packages\\numpy\\core\\fromnumeric.py:88: RuntimeWarning: overflow encountered in reduce\n",
      "  return ufunc.reduce(obj, axis, dtype, out, **passkwargs)\n"
     ]
    },
    {
     "name": "stderr",
     "output_type": "stream",
     "text": [
      "  2%|██                                                                                                               | 26/1389 [00:04<03:21,  6.78it/s]"
     ]
    },
    {
     "name": "stdout",
     "output_type": "stream",
     "text": [
      "D:\\Python\\Lib\\site-packages\\numpy\\core\\fromnumeric.py:88: RuntimeWarning: overflow encountered in reduce\n",
      "  return ufunc.reduce(obj, axis, dtype, out, **passkwargs)\n",
      "D:\\Python\\Lib\\site-packages\\numpy\\core\\fromnumeric.py:88: RuntimeWarning: overflow encountered in reduce\n",
      "  return ufunc.reduce(obj, axis, dtype, out, **passkwargs)\n"
     ]
    },
    {
     "name": "stderr",
     "output_type": "stream",
     "text": [
      "  2%|██▎                                                                                                              | 28/1389 [00:04<03:20,  6.78it/s]"
     ]
    },
    {
     "name": "stdout",
     "output_type": "stream",
     "text": [
      "D:\\Python\\Lib\\site-packages\\numpy\\core\\fromnumeric.py:88: RuntimeWarning: overflow encountered in reduce\n",
      "  return ufunc.reduce(obj, axis, dtype, out, **passkwargs)\n",
      "D:\\Python\\Lib\\site-packages\\numpy\\core\\fromnumeric.py:88: RuntimeWarning: overflow encountered in reduce\n",
      "  return ufunc.reduce(obj, axis, dtype, out, **passkwargs)\n",
      "D:\\Python\\Lib\\site-packages\\numpy\\core\\fromnumeric.py:88: RuntimeWarning: overflow encountered in reduce\n",
      "  return ufunc.reduce(obj, axis, dtype, out, **passkwargs)\n"
     ]
    },
    {
     "name": "stderr",
     "output_type": "stream",
     "text": [
      "100%|███████████████████████████████████████████████████████████████████████████████████████████████████████████████| 1389/1389 [03:24<00:00,  6.81it/s]\n"
     ]
    }
   ],
   "source": [
    "df1 = pd.DataFrame(calc.pandas([smiles_to_mol_with_hs(smiles) for smiles in dfs[0]['SMILES']]))"
   ]
  },
  {
   "cell_type": "code",
   "execution_count": 9,
   "id": "f957622a-b617-409b-a0c7-c25721413801",
   "metadata": {},
   "outputs": [
    {
     "name": "stderr",
     "output_type": "stream",
     "text": [
      "  1%|▌                                                                                                                 | 7/1388 [00:01<04:49,  4.78it/s]"
     ]
    },
    {
     "name": "stdout",
     "output_type": "stream",
     "text": [
      "D:\\Python\\Lib\\site-packages\\numpy\\core\\fromnumeric.py:88: RuntimeWarning: overflow encountered in reduce\n",
      "  return ufunc.reduce(obj, axis, dtype, out, **passkwargs)\n"
     ]
    },
    {
     "name": "stderr",
     "output_type": "stream",
     "text": [
      "  1%|█▏                                                                                                               | 15/1388 [00:02<02:58,  7.69it/s]"
     ]
    },
    {
     "name": "stdout",
     "output_type": "stream",
     "text": [
      "D:\\Python\\Lib\\site-packages\\numpy\\core\\fromnumeric.py:88: RuntimeWarning: overflow encountered in reduce\n",
      "  return ufunc.reduce(obj, axis, dtype, out, **passkwargs)\n",
      "D:\\Python\\Lib\\site-packages\\numpy\\core\\fromnumeric.py:88: RuntimeWarning: overflow encountered in reduce\n",
      "  return ufunc.reduce(obj, axis, dtype, out, **passkwargs)\n",
      "D:\\Python\\Lib\\site-packages\\numpy\\core\\fromnumeric.py:88: RuntimeWarning: overflow encountered in reduce\n",
      "  return ufunc.reduce(obj, axis, dtype, out, **passkwargs)\n",
      "D:\\Python\\Lib\\site-packages\\numpy\\core\\fromnumeric.py:88: RuntimeWarning: overflow encountered in reduce\n",
      "  return ufunc.reduce(obj, axis, dtype, out, **passkwargs)\n",
      "D:\\Python\\Lib\\site-packages\\numpy\\core\\fromnumeric.py:88: RuntimeWarning: overflow encountered in reduce\n",
      "  return ufunc.reduce(obj, axis, dtype, out, **passkwargs)\n"
     ]
    },
    {
     "name": "stderr",
     "output_type": "stream",
     "text": [
      "  1%|█▍                                                                                                               | 18/1388 [00:03<03:46,  6.04it/s]"
     ]
    },
    {
     "name": "stdout",
     "output_type": "stream",
     "text": [
      "D:\\Python\\Lib\\site-packages\\numpy\\core\\fromnumeric.py:88: RuntimeWarning: overflow encountered in reduce\n",
      "  return ufunc.reduce(obj, axis, dtype, out, **passkwargs)\n",
      "D:\\Python\\Lib\\site-packages\\numpy\\core\\fromnumeric.py:88: RuntimeWarning: overflow encountered in reduce\n",
      "  return ufunc.reduce(obj, axis, dtype, out, **passkwargs)\n"
     ]
    },
    {
     "name": "stderr",
     "output_type": "stream",
     "text": [
      "100%|███████████████████████████████████████████████████████████████████████████████████████████████████████████████| 1388/1388 [02:20<00:00,  9.87it/s]\n"
     ]
    }
   ],
   "source": [
    "df2 = pd.DataFrame(calc.pandas([smiles_to_mol_with_hs(smiles) for smiles in dfs[1]['SMILES']]))"
   ]
  },
  {
   "cell_type": "code",
   "execution_count": 10,
   "id": "ae4ec584-cb14-4323-8796-82a381cd9626",
   "metadata": {},
   "outputs": [
    {
     "name": "stderr",
     "output_type": "stream",
     "text": [
      "  3%|███                                                                                                              | 38/1388 [00:05<02:08, 10.47it/s]"
     ]
    },
    {
     "name": "stdout",
     "output_type": "stream",
     "text": [
      "D:\\Python\\Lib\\site-packages\\numpy\\core\\fromnumeric.py:88: RuntimeWarning: overflow encountered in reduce\n",
      "  return ufunc.reduce(obj, axis, dtype, out, **passkwargs)\n"
     ]
    },
    {
     "name": "stderr",
     "output_type": "stream",
     "text": [
      "  9%|██████████▌                                                                                                     | 131/1388 [00:15<02:31,  8.30it/s]"
     ]
    },
    {
     "name": "stdout",
     "output_type": "stream",
     "text": [
      "D:\\Python\\Lib\\site-packages\\numpy\\core\\fromnumeric.py:88: RuntimeWarning: overflow encountered in reduce\n",
      "  return ufunc.reduce(obj, axis, dtype, out, **passkwargs)\n"
     ]
    },
    {
     "name": "stderr",
     "output_type": "stream",
     "text": [
      " 15%|█████████████████                                                                                               | 211/1388 [00:23<02:21,  8.31it/s]"
     ]
    },
    {
     "name": "stdout",
     "output_type": "stream",
     "text": [
      "D:\\Python\\Lib\\site-packages\\numpy\\core\\fromnumeric.py:88: RuntimeWarning: overflow encountered in reduce\n",
      "  return ufunc.reduce(obj, axis, dtype, out, **passkwargs)\n"
     ]
    },
    {
     "name": "stderr",
     "output_type": "stream",
     "text": [
      " 21%|███████████████████████▉                                                                                        | 296/1388 [00:31<01:37, 11.22it/s]"
     ]
    },
    {
     "name": "stdout",
     "output_type": "stream",
     "text": [
      "D:\\Python\\Lib\\site-packages\\numpy\\core\\fromnumeric.py:88: RuntimeWarning: overflow encountered in reduce\n",
      "  return ufunc.reduce(obj, axis, dtype, out, **passkwargs)\n"
     ]
    },
    {
     "name": "stderr",
     "output_type": "stream",
     "text": [
      " 23%|██████████████████████████▏                                                                                     | 324/1388 [00:35<02:02,  8.70it/s]"
     ]
    },
    {
     "name": "stdout",
     "output_type": "stream",
     "text": [
      "D:\\Python\\Lib\\site-packages\\numpy\\core\\fromnumeric.py:88: RuntimeWarning: overflow encountered in reduce\n",
      "  return ufunc.reduce(obj, axis, dtype, out, **passkwargs)\n",
      "D:\\Python\\Lib\\site-packages\\numpy\\core\\fromnumeric.py:88: RuntimeWarning: overflow encountered in reduce\n",
      "  return ufunc.reduce(obj, axis, dtype, out, **passkwargs)\n"
     ]
    },
    {
     "name": "stderr",
     "output_type": "stream",
     "text": [
      " 24%|██████████████████████████▊                                                                                     | 332/1388 [00:36<02:02,  8.64it/s]"
     ]
    },
    {
     "name": "stdout",
     "output_type": "stream",
     "text": [
      "D:\\Python\\Lib\\site-packages\\numpy\\core\\fromnumeric.py:88: RuntimeWarning: overflow encountered in reduce\n",
      "  return ufunc.reduce(obj, axis, dtype, out, **passkwargs)\n"
     ]
    },
    {
     "name": "stderr",
     "output_type": "stream",
     "text": [
      " 25%|███████████████████████████▊                                                                                    | 344/1388 [00:37<01:31, 11.43it/s]"
     ]
    },
    {
     "name": "stdout",
     "output_type": "stream",
     "text": [
      "D:\\Python\\Lib\\site-packages\\numpy\\core\\fromnumeric.py:88: RuntimeWarning: overflow encountered in reduce\n",
      "  return ufunc.reduce(obj, axis, dtype, out, **passkwargs)\n"
     ]
    },
    {
     "name": "stderr",
     "output_type": "stream",
     "text": [
      "100%|███████████████████████████████████████████████████████████████████████████████████████████████████████████████| 1388/1388 [02:42<00:00,  8.56it/s]\n"
     ]
    }
   ],
   "source": [
    "df3 = pd.DataFrame(calc.pandas([smiles_to_mol_with_hs(smiles) for smiles in dfs[2]['SMILES']]))"
   ]
  },
  {
   "cell_type": "code",
   "execution_count": 11,
   "id": "24a817ad-bad3-4b7c-afe4-dfc003c70677",
   "metadata": {},
   "outputs": [
    {
     "name": "stderr",
     "output_type": "stream",
     "text": [
      "  1%|▋                                                                                                                 | 8/1388 [00:01<04:15,  5.41it/s]"
     ]
    },
    {
     "name": "stdout",
     "output_type": "stream",
     "text": [
      "D:\\Python\\Lib\\site-packages\\numpy\\core\\fromnumeric.py:88: RuntimeWarning: overflow encountered in reduce\n",
      "  return ufunc.reduce(obj, axis, dtype, out, **passkwargs)\n"
     ]
    },
    {
     "name": "stderr",
     "output_type": "stream",
     "text": [
      "  1%|█                                                                                                                | 13/1388 [00:02<04:00,  5.72it/s]"
     ]
    },
    {
     "name": "stdout",
     "output_type": "stream",
     "text": [
      "D:\\Python\\Lib\\site-packages\\numpy\\core\\fromnumeric.py:88: RuntimeWarning: overflow encountered in reduce\n",
      "  return ufunc.reduce(obj, axis, dtype, out, **passkwargs)\n"
     ]
    },
    {
     "name": "stderr",
     "output_type": "stream",
     "text": [
      "  1%|█▌                                                                                                               | 19/1388 [00:03<03:28,  6.56it/s]"
     ]
    },
    {
     "name": "stdout",
     "output_type": "stream",
     "text": [
      "D:\\Python\\Lib\\site-packages\\numpy\\core\\fromnumeric.py:88: RuntimeWarning: overflow encountered in reduce\n",
      "  return ufunc.reduce(obj, axis, dtype, out, **passkwargs)\n"
     ]
    },
    {
     "name": "stderr",
     "output_type": "stream",
     "text": [
      "  2%|██▎                                                                                                              | 28/1388 [00:04<02:48,  8.07it/s]"
     ]
    },
    {
     "name": "stdout",
     "output_type": "stream",
     "text": [
      "D:\\Python\\Lib\\site-packages\\numpy\\core\\fromnumeric.py:88: RuntimeWarning: overflow encountered in reduce\n",
      "  return ufunc.reduce(obj, axis, dtype, out, **passkwargs)\n"
     ]
    },
    {
     "name": "stderr",
     "output_type": "stream",
     "text": [
      "  3%|███▏                                                                                                             | 39/1388 [00:05<02:50,  7.89it/s]"
     ]
    },
    {
     "name": "stdout",
     "output_type": "stream",
     "text": [
      "D:\\Python\\Lib\\site-packages\\numpy\\core\\fromnumeric.py:88: RuntimeWarning: overflow encountered in reduce\n",
      "  return ufunc.reduce(obj, axis, dtype, out, **passkwargs)\n",
      "D:\\Python\\Lib\\site-packages\\numpy\\core\\fromnumeric.py:88: RuntimeWarning: overflow encountered in reduce\n",
      "  return ufunc.reduce(obj, axis, dtype, out, **passkwargs)\n"
     ]
    },
    {
     "name": "stderr",
     "output_type": "stream",
     "text": [
      "  3%|███▌                                                                                                             | 44/1388 [00:06<02:46,  8.06it/s]"
     ]
    },
    {
     "name": "stdout",
     "output_type": "stream",
     "text": [
      "D:\\Python\\Lib\\site-packages\\numpy\\core\\fromnumeric.py:88: RuntimeWarning: overflow encountered in reduce\n",
      "  return ufunc.reduce(obj, axis, dtype, out, **passkwargs)\n",
      "D:\\Python\\Lib\\site-packages\\numpy\\core\\fromnumeric.py:88: RuntimeWarning: overflow encountered in reduce\n",
      "  return ufunc.reduce(obj, axis, dtype, out, **passkwargs)\n"
     ]
    },
    {
     "name": "stderr",
     "output_type": "stream",
     "text": [
      "100%|███████████████████████████████████████████████████████████████████████████████████████████████████████████████| 1388/1388 [03:03<00:00,  7.56it/s]\n"
     ]
    }
   ],
   "source": [
    "df4 = pd.DataFrame(calc.pandas([smiles_to_mol_with_hs(smiles) for smiles in dfs[3]['SMILES']]))"
   ]
  },
  {
   "cell_type": "code",
   "execution_count": 12,
   "id": "cb15865a-e4d6-477e-a3ae-a192dd34402d",
   "metadata": {},
   "outputs": [
    {
     "name": "stderr",
     "output_type": "stream",
     "text": [
      "  0%|▍                                                                                                                 | 5/1388 [00:02<12:46,  1.81it/s]"
     ]
    },
    {
     "name": "stdout",
     "output_type": "stream",
     "text": [
      "D:\\Python\\Lib\\site-packages\\numpy\\core\\fromnumeric.py:88: RuntimeWarning: overflow encountered in reduce\n",
      "  return ufunc.reduce(obj, axis, dtype, out, **passkwargs)\n",
      "D:\\Python\\Lib\\site-packages\\numpy\\core\\fromnumeric.py:88: RuntimeWarning: overflow encountered in reduce\n",
      "  return ufunc.reduce(obj, axis, dtype, out, **passkwargs)\n",
      "D:\\Python\\Lib\\site-packages\\numpy\\core\\fromnumeric.py:88: RuntimeWarning: overflow encountered in reduce\n",
      "  return ufunc.reduce(obj, axis, dtype, out, **passkwargs)\n",
      "D:\\Python\\Lib\\site-packages\\numpy\\core\\fromnumeric.py:88: RuntimeWarning: overflow encountered in reduce\n",
      "  return ufunc.reduce(obj, axis, dtype, out, **passkwargs)\n",
      "D:\\Python\\Lib\\site-packages\\numpy\\core\\fromnumeric.py:88: RuntimeWarning: overflow encountered in reduce\n",
      "  return ufunc.reduce(obj, axis, dtype, out, **passkwargs)\n",
      "D:\\Python\\Lib\\site-packages\\numpy\\core\\fromnumeric.py:88: RuntimeWarning: overflow encountered in reduce\n",
      "  return ufunc.reduce(obj, axis, dtype, out, **passkwargs)\n"
     ]
    },
    {
     "name": "stderr",
     "output_type": "stream",
     "text": [
      "  1%|▌                                                                                                                 | 7/1388 [00:02<12:44,  1.81it/s]"
     ]
    },
    {
     "name": "stdout",
     "output_type": "stream",
     "text": [
      "D:\\Python\\Lib\\site-packages\\numpy\\core\\fromnumeric.py:88: RuntimeWarning: overflow encountered in reduce\n",
      "  return ufunc.reduce(obj, axis, dtype, out, **passkwargs)\n",
      "D:\\Python\\Lib\\site-packages\\numpy\\core\\fromnumeric.py:88: RuntimeWarning: overflow encountered in reduce\n",
      "  return ufunc.reduce(obj, axis, dtype, out, **passkwargs)\n"
     ]
    },
    {
     "name": "stderr",
     "output_type": "stream",
     "text": [
      "100%|███████████████████████████████████████████████████████████████████████████████████████████████████████████████| 1388/1388 [03:25<00:00,  6.77it/s]\n"
     ]
    }
   ],
   "source": [
    "df5 = pd.DataFrame(calc.pandas([smiles_to_mol_with_hs(smiles) for smiles in dfs[4]['SMILES']]))"
   ]
  },
  {
   "cell_type": "code",
   "execution_count": 13,
   "id": "2d60412f-3588-4e82-863e-0abc8fd10881",
   "metadata": {},
   "outputs": [],
   "source": [
    "final_df = pd.concat([df1, df2, df3, df4, df5], ignore_index=True)"
   ]
  },
  {
   "cell_type": "code",
   "execution_count": 14,
   "id": "ed730527-7511-4900-b98b-6798d143c082",
   "metadata": {},
   "outputs": [
    {
     "data": {
      "text/html": [
       "<div>\n",
       "<style scoped>\n",
       "    .dataframe tbody tr th:only-of-type {\n",
       "        vertical-align: middle;\n",
       "    }\n",
       "\n",
       "    .dataframe tbody tr th {\n",
       "        vertical-align: top;\n",
       "    }\n",
       "\n",
       "    .dataframe thead th {\n",
       "        text-align: right;\n",
       "    }\n",
       "</style>\n",
       "<table border=\"1\" class=\"dataframe\">\n",
       "  <thead>\n",
       "    <tr style=\"text-align: right;\">\n",
       "      <th></th>\n",
       "      <th>ABC</th>\n",
       "      <th>ABCGG</th>\n",
       "      <th>nAcid</th>\n",
       "      <th>nBase</th>\n",
       "      <th>SpAbs_A</th>\n",
       "      <th>SpMax_A</th>\n",
       "      <th>SpDiam_A</th>\n",
       "      <th>SpAD_A</th>\n",
       "      <th>SpMAD_A</th>\n",
       "      <th>LogEE_A</th>\n",
       "      <th>...</th>\n",
       "      <th>SRW10</th>\n",
       "      <th>TSRW10</th>\n",
       "      <th>MW</th>\n",
       "      <th>AMW</th>\n",
       "      <th>WPath</th>\n",
       "      <th>WPol</th>\n",
       "      <th>Zagreb1</th>\n",
       "      <th>Zagreb2</th>\n",
       "      <th>mZagreb1</th>\n",
       "      <th>mZagreb2</th>\n",
       "    </tr>\n",
       "  </thead>\n",
       "  <tbody>\n",
       "    <tr>\n",
       "      <th>0</th>\n",
       "      <td>module 'numpy' has no attribute 'float'.\\n`np....</td>\n",
       "      <td>module 'numpy' has no attribute 'float'.\\n`np....</td>\n",
       "      <td>0</td>\n",
       "      <td>0</td>\n",
       "      <td>100.134733</td>\n",
       "      <td>2.444935</td>\n",
       "      <td>4.889759</td>\n",
       "      <td>100.134733</td>\n",
       "      <td>1.178056</td>\n",
       "      <td>5.311883</td>\n",
       "      <td>...</td>\n",
       "      <td>11.208585</td>\n",
       "      <td>125.402718</td>\n",
       "      <td>1201.841368</td>\n",
       "      <td>6.131844</td>\n",
       "      <td>37337</td>\n",
       "      <td>150</td>\n",
       "      <td>412.0</td>\n",
       "      <td>477.0</td>\n",
       "      <td>43.250000</td>\n",
       "      <td>19.166667</td>\n",
       "    </tr>\n",
       "    <tr>\n",
       "      <th>1</th>\n",
       "      <td>module 'numpy' has no attribute 'float'.\\n`np....</td>\n",
       "      <td>module 'numpy' has no attribute 'float'.\\n`np....</td>\n",
       "      <td>0</td>\n",
       "      <td>0</td>\n",
       "      <td>61.346664</td>\n",
       "      <td>2.422289</td>\n",
       "      <td>4.796747</td>\n",
       "      <td>61.346664</td>\n",
       "      <td>1.202876</td>\n",
       "      <td>4.824467</td>\n",
       "      <td>...</td>\n",
       "      <td>10.622229</td>\n",
       "      <td>102.392896</td>\n",
       "      <td>712.452348</td>\n",
       "      <td>6.418490</td>\n",
       "      <td>9286</td>\n",
       "      <td>80</td>\n",
       "      <td>254.0</td>\n",
       "      <td>289.0</td>\n",
       "      <td>21.361111</td>\n",
       "      <td>11.222222</td>\n",
       "    </tr>\n",
       "    <tr>\n",
       "      <th>2</th>\n",
       "      <td>module 'numpy' has no attribute 'float'.\\n`np....</td>\n",
       "      <td>module 'numpy' has no attribute 'float'.\\n`np....</td>\n",
       "      <td>0</td>\n",
       "      <td>0</td>\n",
       "      <td>61.346664</td>\n",
       "      <td>2.422289</td>\n",
       "      <td>4.796747</td>\n",
       "      <td>61.346664</td>\n",
       "      <td>1.202876</td>\n",
       "      <td>4.824467</td>\n",
       "      <td>...</td>\n",
       "      <td>10.622229</td>\n",
       "      <td>102.392896</td>\n",
       "      <td>712.452348</td>\n",
       "      <td>6.418490</td>\n",
       "      <td>9286</td>\n",
       "      <td>80</td>\n",
       "      <td>254.0</td>\n",
       "      <td>289.0</td>\n",
       "      <td>21.361111</td>\n",
       "      <td>11.222222</td>\n",
       "    </tr>\n",
       "    <tr>\n",
       "      <th>3</th>\n",
       "      <td>module 'numpy' has no attribute 'float'.\\n`np....</td>\n",
       "      <td>module 'numpy' has no attribute 'float'.\\n`np....</td>\n",
       "      <td>0</td>\n",
       "      <td>0</td>\n",
       "      <td>61.346664</td>\n",
       "      <td>2.422289</td>\n",
       "      <td>4.796747</td>\n",
       "      <td>61.346664</td>\n",
       "      <td>1.202876</td>\n",
       "      <td>4.824467</td>\n",
       "      <td>...</td>\n",
       "      <td>10.622229</td>\n",
       "      <td>102.392896</td>\n",
       "      <td>712.452348</td>\n",
       "      <td>6.418490</td>\n",
       "      <td>9286</td>\n",
       "      <td>80</td>\n",
       "      <td>254.0</td>\n",
       "      <td>289.0</td>\n",
       "      <td>21.361111</td>\n",
       "      <td>11.222222</td>\n",
       "    </tr>\n",
       "    <tr>\n",
       "      <th>4</th>\n",
       "      <td>module 'numpy' has no attribute 'float'.\\n`np....</td>\n",
       "      <td>module 'numpy' has no attribute 'float'.\\n`np....</td>\n",
       "      <td>0</td>\n",
       "      <td>0</td>\n",
       "      <td>61.346664</td>\n",
       "      <td>2.422289</td>\n",
       "      <td>4.796747</td>\n",
       "      <td>61.346664</td>\n",
       "      <td>1.202876</td>\n",
       "      <td>4.824467</td>\n",
       "      <td>...</td>\n",
       "      <td>10.622229</td>\n",
       "      <td>102.392896</td>\n",
       "      <td>712.452348</td>\n",
       "      <td>6.418490</td>\n",
       "      <td>9286</td>\n",
       "      <td>80</td>\n",
       "      <td>254.0</td>\n",
       "      <td>289.0</td>\n",
       "      <td>21.361111</td>\n",
       "      <td>11.222222</td>\n",
       "    </tr>\n",
       "    <tr>\n",
       "      <th>...</th>\n",
       "      <td>...</td>\n",
       "      <td>...</td>\n",
       "      <td>...</td>\n",
       "      <td>...</td>\n",
       "      <td>...</td>\n",
       "      <td>...</td>\n",
       "      <td>...</td>\n",
       "      <td>...</td>\n",
       "      <td>...</td>\n",
       "      <td>...</td>\n",
       "      <td>...</td>\n",
       "      <td>...</td>\n",
       "      <td>...</td>\n",
       "      <td>...</td>\n",
       "      <td>...</td>\n",
       "      <td>...</td>\n",
       "      <td>...</td>\n",
       "      <td>...</td>\n",
       "      <td>...</td>\n",
       "      <td>...</td>\n",
       "      <td>...</td>\n",
       "    </tr>\n",
       "    <tr>\n",
       "      <th>6936</th>\n",
       "      <td>module 'numpy' has no attribute 'float'.\\n`np....</td>\n",
       "      <td>module 'numpy' has no attribute 'float'.\\n`np....</td>\n",
       "      <td>0</td>\n",
       "      <td>3</td>\n",
       "      <td>86.471366</td>\n",
       "      <td>2.438474</td>\n",
       "      <td>4.845735</td>\n",
       "      <td>86.471366</td>\n",
       "      <td>1.290617</td>\n",
       "      <td>5.123089</td>\n",
       "      <td>...</td>\n",
       "      <td>11.005544</td>\n",
       "      <td>122.306753</td>\n",
       "      <td>917.491193</td>\n",
       "      <td>7.057625</td>\n",
       "      <td>19696</td>\n",
       "      <td>109</td>\n",
       "      <td>348.0</td>\n",
       "      <td>406.0</td>\n",
       "      <td>21.194444</td>\n",
       "      <td>14.750000</td>\n",
       "    </tr>\n",
       "    <tr>\n",
       "      <th>6937</th>\n",
       "      <td>module 'numpy' has no attribute 'float'.\\n`np....</td>\n",
       "      <td>module 'numpy' has no attribute 'float'.\\n`np....</td>\n",
       "      <td>0</td>\n",
       "      <td>3</td>\n",
       "      <td>73.282230</td>\n",
       "      <td>2.425890</td>\n",
       "      <td>4.784007</td>\n",
       "      <td>73.282230</td>\n",
       "      <td>1.263487</td>\n",
       "      <td>4.967242</td>\n",
       "      <td>...</td>\n",
       "      <td>10.774886</td>\n",
       "      <td>112.350034</td>\n",
       "      <td>823.416314</td>\n",
       "      <td>7.160142</td>\n",
       "      <td>13525</td>\n",
       "      <td>91</td>\n",
       "      <td>294.0</td>\n",
       "      <td>339.0</td>\n",
       "      <td>20.111111</td>\n",
       "      <td>12.861111</td>\n",
       "    </tr>\n",
       "    <tr>\n",
       "      <th>6938</th>\n",
       "      <td>module 'numpy' has no attribute 'float'.\\n`np....</td>\n",
       "      <td>module 'numpy' has no attribute 'float'.\\n`np....</td>\n",
       "      <td>0</td>\n",
       "      <td>3</td>\n",
       "      <td>81.823299</td>\n",
       "      <td>2.429068</td>\n",
       "      <td>4.794811</td>\n",
       "      <td>81.823299</td>\n",
       "      <td>1.278489</td>\n",
       "      <td>5.069178</td>\n",
       "      <td>...</td>\n",
       "      <td>10.876518</td>\n",
       "      <td>118.863252</td>\n",
       "      <td>899.447614</td>\n",
       "      <td>7.195581</td>\n",
       "      <td>17542</td>\n",
       "      <td>100</td>\n",
       "      <td>326.0</td>\n",
       "      <td>376.0</td>\n",
       "      <td>20.722222</td>\n",
       "      <td>14.194444</td>\n",
       "    </tr>\n",
       "    <tr>\n",
       "      <th>6939</th>\n",
       "      <td>module 'numpy' has no attribute 'float'.\\n`np....</td>\n",
       "      <td>module 'numpy' has no attribute 'float'.\\n`np....</td>\n",
       "      <td>0</td>\n",
       "      <td>3</td>\n",
       "      <td>87.563159</td>\n",
       "      <td>2.438028</td>\n",
       "      <td>4.844418</td>\n",
       "      <td>87.563159</td>\n",
       "      <td>1.287694</td>\n",
       "      <td>5.136578</td>\n",
       "      <td>...</td>\n",
       "      <td>11.009555</td>\n",
       "      <td>123.349087</td>\n",
       "      <td>949.463264</td>\n",
       "      <td>7.247811</td>\n",
       "      <td>20632</td>\n",
       "      <td>110</td>\n",
       "      <td>352.0</td>\n",
       "      <td>410.0</td>\n",
       "      <td>21.444444</td>\n",
       "      <td>15.000000</td>\n",
       "    </tr>\n",
       "    <tr>\n",
       "      <th>6940</th>\n",
       "      <td>module 'numpy' has no attribute 'float'.\\n`np....</td>\n",
       "      <td>module 'numpy' has no attribute 'float'.\\n`np....</td>\n",
       "      <td>0</td>\n",
       "      <td>1</td>\n",
       "      <td>85.399740</td>\n",
       "      <td>2.438025</td>\n",
       "      <td>4.844415</td>\n",
       "      <td>85.399740</td>\n",
       "      <td>1.293935</td>\n",
       "      <td>5.108188</td>\n",
       "      <td>...</td>\n",
       "      <td>10.992470</td>\n",
       "      <td>121.227824</td>\n",
       "      <td>921.457116</td>\n",
       "      <td>7.143078</td>\n",
       "      <td>18934</td>\n",
       "      <td>108</td>\n",
       "      <td>342.0</td>\n",
       "      <td>400.0</td>\n",
       "      <td>20.333333</td>\n",
       "      <td>14.666667</td>\n",
       "    </tr>\n",
       "  </tbody>\n",
       "</table>\n",
       "<p>6941 rows × 1826 columns</p>\n",
       "</div>"
      ],
      "text/plain": [
       "                                                    ABC  \\\n",
       "0     module 'numpy' has no attribute 'float'.\\n`np....   \n",
       "1     module 'numpy' has no attribute 'float'.\\n`np....   \n",
       "2     module 'numpy' has no attribute 'float'.\\n`np....   \n",
       "3     module 'numpy' has no attribute 'float'.\\n`np....   \n",
       "4     module 'numpy' has no attribute 'float'.\\n`np....   \n",
       "...                                                 ...   \n",
       "6936  module 'numpy' has no attribute 'float'.\\n`np....   \n",
       "6937  module 'numpy' has no attribute 'float'.\\n`np....   \n",
       "6938  module 'numpy' has no attribute 'float'.\\n`np....   \n",
       "6939  module 'numpy' has no attribute 'float'.\\n`np....   \n",
       "6940  module 'numpy' has no attribute 'float'.\\n`np....   \n",
       "\n",
       "                                                  ABCGG  nAcid  nBase  \\\n",
       "0     module 'numpy' has no attribute 'float'.\\n`np....      0      0   \n",
       "1     module 'numpy' has no attribute 'float'.\\n`np....      0      0   \n",
       "2     module 'numpy' has no attribute 'float'.\\n`np....      0      0   \n",
       "3     module 'numpy' has no attribute 'float'.\\n`np....      0      0   \n",
       "4     module 'numpy' has no attribute 'float'.\\n`np....      0      0   \n",
       "...                                                 ...    ...    ...   \n",
       "6936  module 'numpy' has no attribute 'float'.\\n`np....      0      3   \n",
       "6937  module 'numpy' has no attribute 'float'.\\n`np....      0      3   \n",
       "6938  module 'numpy' has no attribute 'float'.\\n`np....      0      3   \n",
       "6939  module 'numpy' has no attribute 'float'.\\n`np....      0      3   \n",
       "6940  module 'numpy' has no attribute 'float'.\\n`np....      0      1   \n",
       "\n",
       "         SpAbs_A   SpMax_A  SpDiam_A      SpAD_A   SpMAD_A   LogEE_A  ...  \\\n",
       "0     100.134733  2.444935  4.889759  100.134733  1.178056  5.311883  ...   \n",
       "1      61.346664  2.422289  4.796747   61.346664  1.202876  4.824467  ...   \n",
       "2      61.346664  2.422289  4.796747   61.346664  1.202876  4.824467  ...   \n",
       "3      61.346664  2.422289  4.796747   61.346664  1.202876  4.824467  ...   \n",
       "4      61.346664  2.422289  4.796747   61.346664  1.202876  4.824467  ...   \n",
       "...          ...       ...       ...         ...       ...       ...  ...   \n",
       "6936   86.471366  2.438474  4.845735   86.471366  1.290617  5.123089  ...   \n",
       "6937   73.282230  2.425890  4.784007   73.282230  1.263487  4.967242  ...   \n",
       "6938   81.823299  2.429068  4.794811   81.823299  1.278489  5.069178  ...   \n",
       "6939   87.563159  2.438028  4.844418   87.563159  1.287694  5.136578  ...   \n",
       "6940   85.399740  2.438025  4.844415   85.399740  1.293935  5.108188  ...   \n",
       "\n",
       "          SRW10      TSRW10           MW       AMW  WPath  WPol  Zagreb1  \\\n",
       "0     11.208585  125.402718  1201.841368  6.131844  37337   150    412.0   \n",
       "1     10.622229  102.392896   712.452348  6.418490   9286    80    254.0   \n",
       "2     10.622229  102.392896   712.452348  6.418490   9286    80    254.0   \n",
       "3     10.622229  102.392896   712.452348  6.418490   9286    80    254.0   \n",
       "4     10.622229  102.392896   712.452348  6.418490   9286    80    254.0   \n",
       "...         ...         ...          ...       ...    ...   ...      ...   \n",
       "6936  11.005544  122.306753   917.491193  7.057625  19696   109    348.0   \n",
       "6937  10.774886  112.350034   823.416314  7.160142  13525    91    294.0   \n",
       "6938  10.876518  118.863252   899.447614  7.195581  17542   100    326.0   \n",
       "6939  11.009555  123.349087   949.463264  7.247811  20632   110    352.0   \n",
       "6940  10.992470  121.227824   921.457116  7.143078  18934   108    342.0   \n",
       "\n",
       "      Zagreb2   mZagreb1   mZagreb2  \n",
       "0       477.0  43.250000  19.166667  \n",
       "1       289.0  21.361111  11.222222  \n",
       "2       289.0  21.361111  11.222222  \n",
       "3       289.0  21.361111  11.222222  \n",
       "4       289.0  21.361111  11.222222  \n",
       "...       ...        ...        ...  \n",
       "6936    406.0  21.194444  14.750000  \n",
       "6937    339.0  20.111111  12.861111  \n",
       "6938    376.0  20.722222  14.194444  \n",
       "6939    410.0  21.444444  15.000000  \n",
       "6940    400.0  20.333333  14.666667  \n",
       "\n",
       "[6941 rows x 1826 columns]"
      ]
     },
     "execution_count": 14,
     "metadata": {},
     "output_type": "execute_result"
    }
   ],
   "source": [
    "final_df"
   ]
  },
  {
   "cell_type": "code",
   "execution_count": 15,
   "id": "10a4cb33-2f00-4664-af48-26679ed52968",
   "metadata": {},
   "outputs": [],
   "source": [
    "final_with_smiles = pd.concat([smiles_df, final_df], axis=1)"
   ]
  },
  {
   "cell_type": "code",
   "execution_count": 16,
   "id": "24e20873-622c-4f25-8d9e-49cb037731f9",
   "metadata": {},
   "outputs": [],
   "source": [
    "final_with_smiles.to_csv('mordred_system.csv', index=False)"
   ]
  }
 ],
 "metadata": {
  "kernelspec": {
   "display_name": "Python 3 (ipykernel)",
   "language": "python",
   "name": "python3"
  },
  "language_info": {
   "codemirror_mode": {
    "name": "ipython",
    "version": 3
   },
   "file_extension": ".py",
   "mimetype": "text/x-python",
   "name": "python",
   "nbconvert_exporter": "python",
   "pygments_lexer": "ipython3",
   "version": "3.12.0"
  }
 },
 "nbformat": 4,
 "nbformat_minor": 5
}
